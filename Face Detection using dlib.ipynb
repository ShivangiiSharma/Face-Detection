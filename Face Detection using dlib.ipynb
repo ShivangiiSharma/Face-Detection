{
 "cells": [
  {
   "cell_type": "code",
   "execution_count": 1,
   "metadata": {},
   "outputs": [],
   "source": [
    "import cv2 \n",
    "import numpy as np \n",
    "import dlib "
   ]
  },
  {
   "cell_type": "code",
   "execution_count": 2,
   "metadata": {},
   "outputs": [],
   "source": [
    "cap = cv2.VideoCapture(0) "
   ]
  },
  {
   "cell_type": "code",
   "execution_count": 3,
   "metadata": {},
   "outputs": [],
   "source": [
    "detector = dlib.get_frontal_face_detector() \n",
    "predictor = dlib.shape_predictor(\"shape_predictor_68_face_landmarks.dat\") "
   ]
  },
  {
   "cell_type": "code",
   "execution_count": null,
   "metadata": {},
   "outputs": [],
   "source": [
    "while True: \n",
    "    _, frame = cap.read() \n",
    "    gray = cv2.cvtColor(frame, cv2.COLOR_BGR2GRAY) \n",
    "    faces = detector(gray) \n",
    "    \n",
    "    for face in faces: \n",
    "        x1 = face.left() \n",
    "        y1 = face.top() \n",
    "        x2 = face.right() \n",
    "        y2 = face.bottom() \n",
    "        \n",
    "        landmarks = predictor(gray, face) \n",
    "        for n in range(0, 68): \n",
    "            x = landmarks.part(n).x \n",
    "            y = landmarks.part(n).y \n",
    "            cv2.circle(frame, (x, y), 2, (255, 100, 0), -1)\n",
    "            \n",
    "        cv2.imshow(\"Frame\", frame) \n",
    "        key = cv2.waitKey(1) \n",
    "        if key == 27: \n",
    "            break"
   ]
  },
  {
   "cell_type": "code",
   "execution_count": null,
   "metadata": {},
   "outputs": [],
   "source": []
  }
 ],
 "metadata": {
  "kernelspec": {
   "display_name": "Python 3",
   "language": "python",
   "name": "python3"
  },
  "language_info": {
   "codemirror_mode": {
    "name": "ipython",
    "version": 3
   },
   "file_extension": ".py",
   "mimetype": "text/x-python",
   "name": "python",
   "nbconvert_exporter": "python",
   "pygments_lexer": "ipython3",
   "version": "3.8.2"
  }
 },
 "nbformat": 4,
 "nbformat_minor": 4
}
